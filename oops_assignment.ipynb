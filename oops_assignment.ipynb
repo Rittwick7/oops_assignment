{
  "nbformat": 4,
  "nbformat_minor": 0,
  "metadata": {
    "colab": {
      "provenance": []
    },
    "kernelspec": {
      "name": "python3",
      "display_name": "Python 3"
    },
    "language_info": {
      "name": "python"
    }
  },
  "cells": [
    {
      "cell_type": "markdown",
      "source": [
        "#OOPS"
      ],
      "metadata": {
        "id": "0RBAbF201UKt"
      }
    },
    {
      "cell_type": "markdown",
      "source": [
        "1. What is Object-Oriented Programming (OOP)?\n",
        "  - Object-oriented programming (OOP) is a style of programming characterized by the identification of classes of objects closely linked with the methods (functions) with which they are associated. It also includes ideas of inheritance of attributes and methods.\n",
        "\n",
        "2. What is a class in OOP?\n",
        "  - In oop classes are blueprint/template for creating object.\n",
        "\n",
        "3. What is an object in OOP?\n",
        "  - In oop an object is an instance of a Class, it contains properties and functions.\n",
        "\n",
        "4. What is the difference between abstraction and encapsulation?\n",
        "  - The main difference between abstraction and encapsulation is abstraction focuses on what an object does, while encapsulation focuses on how an object's data is accessed and manipulated.\n",
        "\n",
        "5. What are dunder methods in Python?\n",
        "  - Dunder methods are the methods defined by built-in classes in python. In dunder 'd' stands for Double and 'under' stands for Underscore, means all the methods surrounding double underscore is a dunder method.\n",
        "\n",
        "6. Explain the concept of inheritance in OOP.\n",
        "  - Inheritance in oops reffers to the process of child class receiving the properties of parent class. A class that inherits from another class is called a subclass or child class, while the class it inherits from is called a superclass or parent class.\n",
        "\n",
        "7. What is polymorphism in OOP?\n",
        "  - In polymorphism 'poly' means Many and 'morphism' means forms/states. It refers to an object taking several forms depending on the methods/data.\n",
        "\n",
        "8. How is encapsulation achieved in Python?\n",
        "  - In Python, encapsulation is achieved by using access modifiers to limit access to a class's variables and methods.\n",
        "\n",
        "9. What is a constructor in Python?\n",
        "  - In Python, a constructor is a special method that is called automatically when an object is created from a class. Its main role is to initialize the object by setting up its attributes or state.\n",
        "\n",
        "10. What are class and static methods in Python?\n",
        "  - In python class method is the method that takes the class itself as the first argument, and static method is the method which can be called without creating any intance of class. Class method to be used when we want to modify class level data, but static method to be used when we don't want to intract with class level data.\n",
        "\n",
        "11. What is method overloading in Python?\n",
        "  - Python does not support true method overloading. It allows a class to have multiple methods with the same name but different parameter lists. Method overloading happens in the same class.\n",
        "\n",
        "12.  What is method overriding in OOP?\n",
        "  - Method in parent class and child class with same signature(method), the child class method will be executed.\n",
        "\n",
        "13. What is a property decorator in Python?\n",
        "  - Property decorator allows class method to be accessed as atribute. It is use to turn class methods into properties.It is define as @property\n",
        "\n",
        "14. Why is polymorphism important in OOP?\n",
        "  - In oop polymorphism is important because it allows for code reusability, flexibility, and extensibility.\n",
        "\n",
        "15. What is an abstract class in Python?\n",
        "  - In python abstract class may contain methods that are just declared and not implemented in acstract class itself, subclass are responsible for implementing these abstract methods. Abstract class should always be subclassed.\n",
        "\n",
        "16. What are the advantages of OOP?\n",
        "  - Oop has many advantages like resuability, encapsulation, polimorphism, modularity.\n",
        "\n",
        "17. What is the difference between a class variable and an instance variable?\n",
        "   - The difference between a class variable and an instance variable is a class variable can be accessed using the class name or object but a instance variable can be accessed only through an object of the class.\n",
        "\n",
        "18.  What is multiple inheritance in Python?\n",
        "  - In python multiple inheritance allows one child class may inherit the property of multiple parent class.\n",
        "\n",
        "19. Explain the purpose of \"__str__\" and \"__repr__\" methods in Python.\n",
        "  - In python '__str__' which return a string repesentation of abject, and '__repr__' it return unambiguous string representation of the object.\n",
        "\n",
        "20. What is the significance of the \"super()\" function in Python?\n",
        "  - The 'super()' function in python is a built-in function that allows access to methods and properties of a parent class from a child class.\n",
        "\n",
        "21. What is the significance of the __del__ method in Python?\n",
        "  - In python '__del__' method called when an object is about to be destroyed.\n",
        "\n",
        "22. What is the difference between @staticmethod and @classmethod in Python?\n",
        "  - The difference between @staticmethod and @classmethod in python is in @classmethod we can access and modify class level atribute/state but @staticmethod we cannot access. In @classmethod the first argument is cls but in @staticmethod has no first argument.\n",
        "\n",
        "23. How does polymorphism work in Python with inheritance?\n",
        "  - Polymorphism in Python with inheritance works by allowing a child class to have a method with the same name as a parent class method, and then redefining that method in the child class.\n",
        "\n",
        "24. What is method chaining in Python OOP?\n",
        "  - In python oop method chaining is a technique for calling multiple methods on an object in a single line of code.\n",
        "\n",
        "25. What is the purpose of the __call__ method in Python?\n",
        "  - In python '__call__' will be executed as the object if the class will be called as function.\n",
        "\n"
      ],
      "metadata": {
        "id": "EtJhCfDy1YhY"
      }
    },
    {
      "cell_type": "markdown",
      "source": [
        "# Practical Questions"
      ],
      "metadata": {
        "id": "G0EoZ7Uk6X8r"
      }
    },
    {
      "cell_type": "code",
      "execution_count": 56,
      "metadata": {
        "colab": {
          "base_uri": "https://localhost:8080/"
        },
        "id": "nxGeGJsi1AzQ",
        "outputId": "4e68cfdc-403e-4429-d369-4ec108febbe3"
      },
      "outputs": [
        {
          "output_type": "stream",
          "name": "stdout",
          "text": [
            "All Animal has a sound\n",
            "Bark!\n"
          ]
        }
      ],
      "source": [
        "# 1. Create a parent class Animal with a method speak() that prints a generic message. Create a child class Dog that overrides the speak() method to print \"Bark!\".\n",
        "class Animal:\n",
        "    def speak(self):\n",
        "        print(\"All Animal has a sound\")\n",
        "class Dog(Animal):\n",
        "    def speak(self):\n",
        "        print(\"Bark!\")\n",
        "animal = Animal()\n",
        "dog = Dog()\n",
        "animal.speak()\n",
        "dog.speak()"
      ]
    },
    {
      "cell_type": "code",
      "source": [
        "# 2.Write a program to create an abstract class Shape with a method area(). Derive classes Circle and Rectangle from it and implement the area() method in both.\n",
        "from abc import ABC, abstractmethod\n",
        "import math\n",
        "class Shape(ABC):\n",
        "    @abstractmethod\n",
        "    def area(self):\n",
        "        pass\n",
        "class Circle(Shape):\n",
        "    def __init__(self, radius):\n",
        "        self.radius = radius\n",
        "    def area(self):\n",
        "        return math.pi * (self.radius ** 2)\n",
        "class Rectangle(Shape):\n",
        "    def __init__(self, length, width):\n",
        "        self.length = length\n",
        "        self.width = width\n",
        "    def area(self):\n",
        "        return self.length * self.width\n",
        "\n",
        "circle = Circle(7)\n",
        "rectangle = Rectangle(5, 9)\n",
        "print(f\"Area of Circle: {circle.area():.2f}\")\n",
        "print(f\"Area of Rectangle: {rectangle.area()}\")"
      ],
      "metadata": {
        "colab": {
          "base_uri": "https://localhost:8080/"
        },
        "id": "K0YvVqZc6o7O",
        "outputId": "60c8d66b-41d7-497a-9755-cab1fb969e03"
      },
      "execution_count": 57,
      "outputs": [
        {
          "output_type": "stream",
          "name": "stdout",
          "text": [
            "Area of Circle: 153.94\n",
            "Area of Rectangle: 45\n"
          ]
        }
      ]
    },
    {
      "cell_type": "code",
      "source": [
        "# 3. Implement a multi-level inheritance scenario where a class Vehicle has an attribute type. Derive a class Car and further derive a class ElectricCar that adds a battery attribute\n",
        "class Vehicle:\n",
        "    def __init__(self, vehicle_type):\n",
        "        self.vehicle_type = vehicle_type\n",
        "\n",
        "    def display_info(self):\n",
        "        print(f\"Vehicle Type: {self.vehicle_type}\")\n",
        "\n",
        "class Car(Vehicle):\n",
        "    def __init__(self, vehicle_type, brand, model):\n",
        "        super().__init__(vehicle_type)\n",
        "        self.brand = brand\n",
        "        self.model = model\n",
        "\n",
        "    def display_info(self):\n",
        "        super().display_info()\n",
        "        print(f\"Brand: {self.brand}\")\n",
        "        print(f\"Model: {self.model}\")\n",
        "\n",
        "class ElectricCar(Car):\n",
        "    def __init__(self, vehicle_type, brand, model, battery_capacity):\n",
        "        super().__init__(vehicle_type, brand, model)\n",
        "        self.battery_capacity = battery_capacity\n",
        "\n",
        "    def display_info(self):\n",
        "        super().display_info()\n",
        "        print(f\"Battery Capacity: {self.battery_capacity} kWh\")\n",
        "electric_car = ElectricCar(\"Electric\", \"Tata\", \"Model Tiago\", 700)\n",
        "electric_car.display_info()"
      ],
      "metadata": {
        "colab": {
          "base_uri": "https://localhost:8080/"
        },
        "id": "3Wte79qJZJvZ",
        "outputId": "b2c68ffd-b1a2-44c0-beb5-2d7d080345d7"
      },
      "execution_count": 58,
      "outputs": [
        {
          "output_type": "stream",
          "name": "stdout",
          "text": [
            "Vehicle Type: Electric\n",
            "Brand: Tata\n",
            "Model: Model Tiago\n",
            "Battery Capacity: 700 kWh\n"
          ]
        }
      ]
    },
    {
      "cell_type": "code",
      "source": [
        "# 4. Implement a multi-level inheritance scenario where a class Vehicle has an attribute type. Derive a class Car and further derive a class ElectricCar that adds a battery attribute\n",
        "class Vehicle:\n",
        "    def __init__(self, vehicle_type):\n",
        "        self.vehicle_type = vehicle_type\n",
        "\n",
        "    def display_info(self):\n",
        "        print(f\"Vehicle Type: {self.vehicle_type}\")\n",
        "\n",
        "class Car(Vehicle):\n",
        "    def __init__(self, vehicle_type, brand, model):\n",
        "        super().__init__(vehicle_type)\n",
        "        self.brand = brand\n",
        "        self.model = model\n",
        "\n",
        "    def display_info(self):\n",
        "        super().display_info()\n",
        "        print(f\"Brand: {self.brand}\")\n",
        "        print(f\"Model: {self.model}\")\n",
        "\n",
        "class ElectricCar(Car):\n",
        "    def __init__(self, vehicle_type, brand, model, battery_capacity):\n",
        "        super().__init__(vehicle_type, brand, model)\n",
        "        self.battery_capacity = battery_capacity\n",
        "\n",
        "    def display_info(self):\n",
        "        super().display_info()\n",
        "        print(f\"Battery Capacity: {self.battery_capacity} kWh\")\n",
        "electric_car = ElectricCar(\"Electric\", \"Tata\", \"Model Tiago\", 700)\n",
        "electric_car.display_info()"
      ],
      "metadata": {
        "colab": {
          "base_uri": "https://localhost:8080/"
        },
        "id": "zXYIM_RL6wYk",
        "outputId": "6ee1d37d-5b43-4e6b-d051-ef0bc0f803d1"
      },
      "execution_count": 59,
      "outputs": [
        {
          "output_type": "stream",
          "name": "stdout",
          "text": [
            "Vehicle Type: Electric\n",
            "Brand: Tata\n",
            "Model: Model Tiago\n",
            "Battery Capacity: 700 kWh\n"
          ]
        }
      ]
    },
    {
      "cell_type": "code",
      "source": [
        "# 5. Write a program to demonstrate encapsulation by creating a class BankAccount with private attributes balance and methods to deposit, withdraw, and check balance.\n",
        "class BankAccount:\n",
        "    def __init__(self, initial_balance):\n",
        "        self.__balance = initial_balance  # Private attribute\n",
        "\n",
        "    def deposit(self, amount):\n",
        "        if amount > 0:\n",
        "            self.__balance += amount\n",
        "            print(f\"Deposited {amount}. New balance: {self.__balance}\")\n",
        "        else:\n",
        "            print(\"Deposit amount must be positive!\")\n",
        "\n",
        "    def withdraw(self, amount):\n",
        "        if amount > 0:\n",
        "            if amount <= self.__balance:\n",
        "                self.__balance -= amount\n",
        "                print(f\"Withdrew {amount}. New balance: {self.__balance}\")\n",
        "            else:\n",
        "                print(\"Insufficient balance!\")\n",
        "        else:\n",
        "            print(\"Withdrawal amount must be positive!\")\n",
        "\n",
        "    def check_balance(self):\n",
        "        print(f\"Current balance: {self.__balance}\")\n",
        "account = BankAccount(7000)\n",
        "account.check_balance()\n",
        "account.deposit(5500)\n",
        "account.withdraw(6000)\n",
        "account.withdraw(8000)\n",
        "account.check_balance()"
      ],
      "metadata": {
        "colab": {
          "base_uri": "https://localhost:8080/"
        },
        "id": "l8sCDgfV6yts",
        "outputId": "54f0b4e0-2b86-4ec4-8929-83b574cab318"
      },
      "execution_count": 60,
      "outputs": [
        {
          "output_type": "stream",
          "name": "stdout",
          "text": [
            "Current balance: 7000\n",
            "Deposited 5500. New balance: 12500\n",
            "Withdrew 6000. New balance: 6500\n",
            "Insufficient balance!\n",
            "Current balance: 6500\n"
          ]
        }
      ]
    },
    {
      "cell_type": "code",
      "source": [
        "# 6. Demonstrate runtime polymorphism using a method play() in a base class Instrument. Derive classes Guitar and Piano that implement their own version of play().\n",
        "class Instrument:\n",
        "    def play(self):\n",
        "        print(\"Playing the instrument\")\n",
        "\n",
        "class Guitar(Instrument):\n",
        "    def play(self):\n",
        "        print(\"Playing the guitar\")\n",
        "\n",
        "class Piano(Instrument):\n",
        "    def play(self):\n",
        "        print(\"Playing the piano\")\n",
        "\n",
        "def demonstrate_polymorphism(instrument):\n",
        "    instrument.play()\n",
        "guitar = Guitar()\n",
        "piano = Piano()\n",
        "demonstrate_polymorphism(guitar)\n",
        "demonstrate_polymorphism(piano)"
      ],
      "metadata": {
        "colab": {
          "base_uri": "https://localhost:8080/"
        },
        "id": "_lSnDZj060uE",
        "outputId": "2a6b4ad0-fd13-4c85-e9cb-74bd05f5213b"
      },
      "execution_count": 61,
      "outputs": [
        {
          "output_type": "stream",
          "name": "stdout",
          "text": [
            "Playing the guitar\n",
            "Playing the piano\n"
          ]
        }
      ]
    },
    {
      "cell_type": "code",
      "source": [
        "# 7.Create a class MathOperations with a class method add_numbers() to add two numbers and a static method subtract_numbers() to subtract two numbers.\n",
        "class MathOperations:\n",
        "    @classmethod\n",
        "    def add_numbers(cls, num1, num2):\n",
        "        return num1 + num2\n",
        "\n",
        "    @staticmethod\n",
        "    def subtract_numbers(num1, num2):\n",
        "        return num1 - num2\n",
        "\n",
        "result_addition = MathOperations.add_numbers(15, 7)\n",
        "print(f\"Sum: {result_addition}\")\n",
        "result_subtraction = MathOperations.subtract_numbers(9, 5)\n",
        "print(f\"Difference: {result_subtraction}\")"
      ],
      "metadata": {
        "colab": {
          "base_uri": "https://localhost:8080/"
        },
        "id": "cMfD9sQY62GD",
        "outputId": "abe2f5f3-70e2-4480-c58d-1be24ba7076f"
      },
      "execution_count": 62,
      "outputs": [
        {
          "output_type": "stream",
          "name": "stdout",
          "text": [
            "Sum: 22\n",
            "Difference: 4\n"
          ]
        }
      ]
    },
    {
      "cell_type": "code",
      "source": [
        "# 8. Implement a class Person with a class method to count the total number of persons created.\n",
        "class Person:\n",
        "    total_persons = 0\n",
        "\n",
        "    def __init__(self, name, age):\n",
        "        self.name = name\n",
        "        self.age = age\n",
        "        Person.total_persons += 1\n",
        "    @classmethod\n",
        "    def get_total_persons(cls):\n",
        "        return cls.total_persons\n",
        "\n",
        "person1 = Person(\"Tanmoy\", 35)\n",
        "person2 = Person(\"Koushik\", 22)\n",
        "person3 = Person(\"Chayan\", 25)\n",
        "print(f\"Total number of persons created: {Person.get_total_persons()}\")"
      ],
      "metadata": {
        "id": "6dNKyI1B64GU",
        "colab": {
          "base_uri": "https://localhost:8080/"
        },
        "outputId": "e587ed98-965b-484a-ba75-a0835d9d9779"
      },
      "execution_count": 63,
      "outputs": [
        {
          "output_type": "stream",
          "name": "stdout",
          "text": [
            "Total number of persons created: 3\n"
          ]
        }
      ]
    },
    {
      "cell_type": "code",
      "source": [
        "# 9.Write a class Fraction with attributes numerator and denominator. Override the str method to display the fraction as \"numerator/denominator\".\n",
        "class Fraction:\n",
        "    def __init__(self, numerator, denominator):\n",
        "        self.numerator = numerator\n",
        "        self.denominator = denominator\n",
        "    def __str__(self):\n",
        "        return f\"{self.numerator}/{self.denominator}\"\n",
        "fraction1 = Fraction(3, 5)\n",
        "fraction2 = Fraction(6, 7)\n",
        "print(fraction1)\n",
        "print(fraction2)"
      ],
      "metadata": {
        "id": "pqRCvG4965cc",
        "colab": {
          "base_uri": "https://localhost:8080/"
        },
        "outputId": "257022ea-7562-4428-fbc2-a89c42218f74"
      },
      "execution_count": 64,
      "outputs": [
        {
          "output_type": "stream",
          "name": "stdout",
          "text": [
            "3/5\n",
            "6/7\n"
          ]
        }
      ]
    },
    {
      "cell_type": "code",
      "source": [
        "# 10. Demonstrate operator overloading by creating a class Vector and overriding the add method to add two vectors.\n",
        "class Vector:\n",
        "    def __init__(self, a, b):\n",
        "        self.a = a\n",
        "        self.b = b\n",
        "    def __add__(self, other):\n",
        "        return Vector(self.a + other.a, self.b + other.b)\n",
        "    def __str__(self):\n",
        "        return f\"({self.a}, {self.b})\"\n",
        "\n",
        "vector1 = Vector(4, 5)\n",
        "vector2 = Vector(6, 7)\n",
        "result = vector1 + vector2\n",
        "print(f\"Vector 1: {vector1}\")\n",
        "print(f\"Vector 2: {vector2}\")\n",
        "print(f\"Sum of vectors: {result}\")"
      ],
      "metadata": {
        "id": "LTHzL8MB66qL",
        "colab": {
          "base_uri": "https://localhost:8080/"
        },
        "outputId": "5708c3d9-de9e-4542-8344-24d5949db5f6"
      },
      "execution_count": 65,
      "outputs": [
        {
          "output_type": "stream",
          "name": "stdout",
          "text": [
            "Vector 1: (4, 5)\n",
            "Vector 2: (6, 7)\n",
            "Sum of vectors: (10, 12)\n"
          ]
        }
      ]
    },
    {
      "cell_type": "code",
      "source": [
        "# 11. Create a class Person with attributes name and age. Add a method greet() that prints \"Hello, my name is {name} and I am {age} years old.\"\n",
        "class Person:\n",
        "    def __init__(self, name, age):\n",
        "        self.name = name\n",
        "        self.age = age\n",
        "\n",
        "    def greet(self):\n",
        "        print(f\"Hello, my name is {self.name} and I am {self.age} years old.\")\n",
        "\n",
        "person1 = Person(\"Rittwick\", 22)\n",
        "person1.greet()"
      ],
      "metadata": {
        "id": "3DdEbwTO67ts",
        "colab": {
          "base_uri": "https://localhost:8080/"
        },
        "outputId": "ef2827f9-e59e-4049-9260-bc1ce9ea0419"
      },
      "execution_count": 66,
      "outputs": [
        {
          "output_type": "stream",
          "name": "stdout",
          "text": [
            "Hello, my name is Rittwick and I am 22 years old.\n"
          ]
        }
      ]
    },
    {
      "cell_type": "code",
      "source": [
        "# 12. Implement a class Student with attributes name and grades. Create a method average_grade() to compute the average of the grades.\n",
        "class Student:\n",
        "    def __init__(self, name, grades):\n",
        "        self.name = name\n",
        "        self.grades = grades\n",
        "\n",
        "    def average_grade(self):\n",
        "        if len(self.grades) == 0:\n",
        "            return 0  # To handle division by zero if no grades are provided\n",
        "        return sum(self.grades) / len(self.grades)\n",
        "\n",
        "student1 = Student(\"Akash\", [84, 85, 56, 88, 94])\n",
        "average = student1.average_grade()\n",
        "print(f\"Student: {student1.name}\")\n",
        "print(f\"Average grade: {average:.2f}\")\n"
      ],
      "metadata": {
        "id": "QU4bFUY76-6D",
        "colab": {
          "base_uri": "https://localhost:8080/"
        },
        "outputId": "58220d34-244e-4187-9459-73bdd0f1a50e"
      },
      "execution_count": 67,
      "outputs": [
        {
          "output_type": "stream",
          "name": "stdout",
          "text": [
            "Student: Akash\n",
            "Average grade: 81.40\n"
          ]
        }
      ]
    },
    {
      "cell_type": "code",
      "source": [
        "# 13. Create a class Rectangle with methods set_dimensions() to set the dimensions and area() to calculate the area.\n",
        "class Rectangle:\n",
        "    def __init__(self):\n",
        "        self.length = None\n",
        "        self.width = None\n",
        "\n",
        "    def set_dimensions(self, length, width):\n",
        "        self.length = length\n",
        "        self.width = width\n",
        "\n",
        "    def area(self):\n",
        "        if self.length is None or self.width is None:\n",
        "            return 0        # Return 0 if dimensions are not set\n",
        "        return self.length * self.width\n",
        "\n",
        "rectangle1 = Rectangle()\n",
        "rectangle1.set_dimensions(7, 4)\n",
        "area = rectangle1.area()\n",
        "print(f\"Area of the rectangle: {area}\")"
      ],
      "metadata": {
        "id": "M7tO4hlZ7BSs",
        "colab": {
          "base_uri": "https://localhost:8080/"
        },
        "outputId": "1f5fc0cf-8555-477c-d215-0c789d86d8d5"
      },
      "execution_count": 68,
      "outputs": [
        {
          "output_type": "stream",
          "name": "stdout",
          "text": [
            "Area of the rectangle: 28\n"
          ]
        }
      ]
    },
    {
      "cell_type": "code",
      "source": [
        "# 14.Create a class Employee with a method calculate_salary() that computes the salary based on hours worked and hourly rate. Create a derived class Manager that adds a bonus to the salary.\n",
        "class Employee:\n",
        "    def __init__(self, name, hours_worked, hourly_rate):\n",
        "        self.name = name\n",
        "        self.hours_worked = hours_worked\n",
        "        self.hourly_rate = hourly_rate\n",
        "\n",
        "    def calculate_salary(self):\n",
        "        return self.hours_worked * self.hourly_rate\n",
        "\n",
        "class Manager(Employee):\n",
        "    def __init__(self, name, hours_worked, hourly_rate, bonus):\n",
        "        super().__init__(name, hours_worked, hourly_rate)\n",
        "        self.bonus = bonus\n",
        "\n",
        "    def calculate_salary(self):\n",
        "        base_salary = super().calculate_salary()\n",
        "        return base_salary + self.bonus\n",
        "\n",
        "employee1 = Employee(\"Dustu\", 52, 25)\n",
        "\n",
        "manager1 = Manager(\"Raja\", 52, 30, 700)\n",
        "employee_salary = employee1.calculate_salary()\n",
        "print(f\"Employee {employee1.name}'s salary: Rs.{employee_salary}\")\n",
        "manager_salary = manager1.calculate_salary()\n",
        "print(f\"Manager {manager1.name}'s salary: Rs.{manager_salary}\")"
      ],
      "metadata": {
        "id": "_XUeO-m57Ctr",
        "colab": {
          "base_uri": "https://localhost:8080/"
        },
        "outputId": "e13c53b7-0305-4b4a-cf90-21415a9fce45"
      },
      "execution_count": 69,
      "outputs": [
        {
          "output_type": "stream",
          "name": "stdout",
          "text": [
            "Employee Dustu's salary: Rs.1300\n",
            "Manager Raja's salary: Rs.2260\n"
          ]
        }
      ]
    },
    {
      "cell_type": "code",
      "source": [
        "# 15. Create a class Product with attributes name, price, and quantity. Implement a method total_price() that calculates the total price of the product.\n",
        "class Product:\n",
        "    def __init__(self, name, price, quantity):\n",
        "        self.name = name\n",
        "        self.price = price\n",
        "        self.quantity = quantity\n",
        "\n",
        "    def total_price(self):\n",
        "        return self.price * self.quantity\n",
        "\n",
        "product1 = Product(\"LED TV\", 12000, 7)\n",
        "total = product1.total_price()\n",
        "print(f\"Product: {product1.name}\")\n",
        "print(f\"Total price for {product1.quantity} units: Rs.{total}\")"
      ],
      "metadata": {
        "id": "rMVxeRmP7Ev7",
        "colab": {
          "base_uri": "https://localhost:8080/"
        },
        "outputId": "b730055a-099e-4658-a7eb-cbd666a9b01e"
      },
      "execution_count": 70,
      "outputs": [
        {
          "output_type": "stream",
          "name": "stdout",
          "text": [
            "Product: LED TV\n",
            "Total price for 7 units: Rs.84000\n"
          ]
        }
      ]
    },
    {
      "cell_type": "code",
      "source": [
        "# 16.Create a class Animal with an abstract method sound(). Create two derived classes Cow and Sheep that implement the sound() method.\n",
        "from abc import ABC, abstractmethod\n",
        "class Animal(ABC):\n",
        "\n",
        "    @abstractmethod\n",
        "    def sound(self):\n",
        "        pass\n",
        "class Cow(Animal):\n",
        "    def sound(self):\n",
        "        return \"Hamba\"\n",
        "\n",
        "class Sheep(Animal):\n",
        "    def sound(self):\n",
        "        return \"Baa\"\n",
        "\n",
        "cow = Cow()\n",
        "sheep = Sheep()\n",
        "print(f\"Cow sound: {cow.sound()}\")\n",
        "print(f\"Sheep sound: {sheep.sound()}\")"
      ],
      "metadata": {
        "id": "Pi81AkOW7GOT",
        "colab": {
          "base_uri": "https://localhost:8080/"
        },
        "outputId": "df901743-0782-4f03-d41d-33e424d3ef29"
      },
      "execution_count": 71,
      "outputs": [
        {
          "output_type": "stream",
          "name": "stdout",
          "text": [
            "Cow sound: Hamba\n",
            "Sheep sound: Baa\n"
          ]
        }
      ]
    },
    {
      "cell_type": "code",
      "source": [
        "# 17.Create a class Book with attributes title, author, and year_published. Add a method get_book_info() that returns a formatted string with the book's details.\n",
        "class Book:\n",
        "    def __init__(self, title, author, year_published):\n",
        "        self.title = title\n",
        "        self.author = author\n",
        "        self.year_published = year_published\n",
        "\n",
        "    def get_book_info(self):\n",
        "        return f\"'{self.title}' by {self.author}, published in {self.year_published}\"\n",
        "book1 = Book(\"Gitanjali\", \"Rabindranath Tagore\", 1910)\n",
        "book_info = book1.get_book_info()\n",
        "print(book_info)"
      ],
      "metadata": {
        "id": "daPGF1-h7Jxr",
        "colab": {
          "base_uri": "https://localhost:8080/"
        },
        "outputId": "89cf6340-6cd4-4622-984f-90bcd4b8a165"
      },
      "execution_count": 72,
      "outputs": [
        {
          "output_type": "stream",
          "name": "stdout",
          "text": [
            "'Gitanjali' by Rabindranath Tagore, published in 1910\n"
          ]
        }
      ]
    },
    {
      "cell_type": "code",
      "source": [
        "# 18. Create a class House with attributes address and price. Create a derived class Mansion that adds an attribute number_of_rooms\n",
        "class House:\n",
        "    def __init__(self, address, price):\n",
        "        self.address = address\n",
        "        self.price = price\n",
        "    def get_house_info(self):\n",
        "        return f\"House located at {self.address}, priced at Rs.{self.price}\"\n",
        "\n",
        "class Mansion(House):\n",
        "    def __init__(self, address, price, number_of_rooms):\n",
        "        super().__init__(address, price)\n",
        "        self.number_of_rooms = number_of_rooms\n",
        "    def get_mansion_info(self):\n",
        "        house_info = super().get_house_info()\n",
        "        return f\"{house_info}, with {self.number_of_rooms} rooms\"\n",
        "\n",
        "house1 = House(\"678 Saraitikar Road\", 270000)\n",
        "mansion1 = Mansion(\"123 Shubhaspally\", 7000000, 15)\n",
        "\n",
        "print(house1.get_house_info())\n",
        "print(mansion1.get_mansion_info())"
      ],
      "metadata": {
        "id": "mMY4o3yl7LGr",
        "colab": {
          "base_uri": "https://localhost:8080/"
        },
        "outputId": "b97e13cf-b48b-4048-e225-fe221db2dbb9"
      },
      "execution_count": 74,
      "outputs": [
        {
          "output_type": "stream",
          "name": "stdout",
          "text": [
            "House located at 678 Saraitikar Road, priced at Rs.270000\n",
            "House located at 123 Shubhaspally, priced at Rs.7000000, with 15 rooms\n"
          ]
        }
      ]
    },
    {
      "cell_type": "markdown",
      "source": [
        "                                                           ** The End **"
      ],
      "metadata": {
        "id": "UN2essZT7XAL"
      }
    }
  ]
}